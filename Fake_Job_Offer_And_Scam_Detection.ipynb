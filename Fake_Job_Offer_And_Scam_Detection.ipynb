{
  "nbformat": 4,
  "nbformat_minor": 0,
  "metadata": {
    "colab": {
      "provenance": [],
      "gpuType": "T4",
      "include_colab_link": true
    },
    "kernelspec": {
      "name": "python3",
      "display_name": "Python 3"
    },
    "language_info": {
      "name": "python"
    },
    "accelerator": "GPU"
  },
  "cells": [
    {
      "cell_type": "markdown",
      "metadata": {
        "id": "view-in-github",
        "colab_type": "text"
      },
      "source": [
        "<a href=\"https://colab.research.google.com/github/Kshibin/NLP-Project/blob/main/Fake_Job_Offer_And_Scam_Detection.ipynb\" target=\"_parent\"><img src=\"https://colab.research.google.com/assets/colab-badge.svg\" alt=\"Open In Colab\"/></a>"
      ]
    },
    {
      "cell_type": "code",
      "source": [
        "!pip install transformers datasets"
      ],
      "metadata": {
        "colab": {
          "base_uri": "https://localhost:8080/"
        },
        "id": "Ttb4rorRgWYr",
        "outputId": "0f6fe6ca-fd6b-4bc6-ad4a-45d8cf71c8c6"
      },
      "execution_count": null,
      "outputs": [
        {
          "output_type": "stream",
          "name": "stdout",
          "text": [
            "Requirement already satisfied: transformers in /usr/local/lib/python3.11/dist-packages (4.52.4)\n",
            "Requirement already satisfied: datasets in /usr/local/lib/python3.11/dist-packages (2.14.4)\n",
            "Requirement already satisfied: filelock in /usr/local/lib/python3.11/dist-packages (from transformers) (3.18.0)\n",
            "Requirement already satisfied: huggingface-hub<1.0,>=0.30.0 in /usr/local/lib/python3.11/dist-packages (from transformers) (0.33.0)\n",
            "Requirement already satisfied: numpy>=1.17 in /usr/local/lib/python3.11/dist-packages (from transformers) (2.0.2)\n",
            "Requirement already satisfied: packaging>=20.0 in /usr/local/lib/python3.11/dist-packages (from transformers) (24.2)\n",
            "Requirement already satisfied: pyyaml>=5.1 in /usr/local/lib/python3.11/dist-packages (from transformers) (6.0.2)\n",
            "Requirement already satisfied: regex!=2019.12.17 in /usr/local/lib/python3.11/dist-packages (from transformers) (2024.11.6)\n",
            "Requirement already satisfied: requests in /usr/local/lib/python3.11/dist-packages (from transformers) (2.32.3)\n",
            "Requirement already satisfied: tokenizers<0.22,>=0.21 in /usr/local/lib/python3.11/dist-packages (from transformers) (0.21.2)\n",
            "Requirement already satisfied: safetensors>=0.4.3 in /usr/local/lib/python3.11/dist-packages (from transformers) (0.5.3)\n",
            "Requirement already satisfied: tqdm>=4.27 in /usr/local/lib/python3.11/dist-packages (from transformers) (4.67.1)\n",
            "Requirement already satisfied: pyarrow>=8.0.0 in /usr/local/lib/python3.11/dist-packages (from datasets) (18.1.0)\n",
            "Requirement already satisfied: dill<0.3.8,>=0.3.0 in /usr/local/lib/python3.11/dist-packages (from datasets) (0.3.7)\n",
            "Requirement already satisfied: pandas in /usr/local/lib/python3.11/dist-packages (from datasets) (2.2.2)\n",
            "Requirement already satisfied: xxhash in /usr/local/lib/python3.11/dist-packages (from datasets) (3.5.0)\n",
            "Requirement already satisfied: multiprocess in /usr/local/lib/python3.11/dist-packages (from datasets) (0.70.15)\n",
            "Requirement already satisfied: fsspec>=2021.11.1 in /usr/local/lib/python3.11/dist-packages (from fsspec[http]>=2021.11.1->datasets) (2025.3.2)\n",
            "Requirement already satisfied: aiohttp in /usr/local/lib/python3.11/dist-packages (from datasets) (3.11.15)\n",
            "Requirement already satisfied: aiohappyeyeballs>=2.3.0 in /usr/local/lib/python3.11/dist-packages (from aiohttp->datasets) (2.6.1)\n",
            "Requirement already satisfied: aiosignal>=1.1.2 in /usr/local/lib/python3.11/dist-packages (from aiohttp->datasets) (1.3.2)\n",
            "Requirement already satisfied: attrs>=17.3.0 in /usr/local/lib/python3.11/dist-packages (from aiohttp->datasets) (25.3.0)\n",
            "Requirement already satisfied: frozenlist>=1.1.1 in /usr/local/lib/python3.11/dist-packages (from aiohttp->datasets) (1.7.0)\n",
            "Requirement already satisfied: multidict<7.0,>=4.5 in /usr/local/lib/python3.11/dist-packages (from aiohttp->datasets) (6.4.4)\n",
            "Requirement already satisfied: propcache>=0.2.0 in /usr/local/lib/python3.11/dist-packages (from aiohttp->datasets) (0.3.2)\n",
            "Requirement already satisfied: yarl<2.0,>=1.17.0 in /usr/local/lib/python3.11/dist-packages (from aiohttp->datasets) (1.20.1)\n",
            "Requirement already satisfied: typing-extensions>=3.7.4.3 in /usr/local/lib/python3.11/dist-packages (from huggingface-hub<1.0,>=0.30.0->transformers) (4.14.0)\n",
            "Requirement already satisfied: hf-xet<2.0.0,>=1.1.2 in /usr/local/lib/python3.11/dist-packages (from huggingface-hub<1.0,>=0.30.0->transformers) (1.1.5)\n",
            "Requirement already satisfied: charset-normalizer<4,>=2 in /usr/local/lib/python3.11/dist-packages (from requests->transformers) (3.4.2)\n",
            "Requirement already satisfied: idna<4,>=2.5 in /usr/local/lib/python3.11/dist-packages (from requests->transformers) (3.10)\n",
            "Requirement already satisfied: urllib3<3,>=1.21.1 in /usr/local/lib/python3.11/dist-packages (from requests->transformers) (2.4.0)\n",
            "Requirement already satisfied: certifi>=2017.4.17 in /usr/local/lib/python3.11/dist-packages (from requests->transformers) (2025.6.15)\n",
            "Requirement already satisfied: python-dateutil>=2.8.2 in /usr/local/lib/python3.11/dist-packages (from pandas->datasets) (2.9.0.post0)\n",
            "Requirement already satisfied: pytz>=2020.1 in /usr/local/lib/python3.11/dist-packages (from pandas->datasets) (2025.2)\n",
            "Requirement already satisfied: tzdata>=2022.7 in /usr/local/lib/python3.11/dist-packages (from pandas->datasets) (2025.2)\n",
            "Requirement already satisfied: six>=1.5 in /usr/local/lib/python3.11/dist-packages (from python-dateutil>=2.8.2->pandas->datasets) (1.17.0)\n"
          ]
        }
      ]
    },
    {
      "cell_type": "code",
      "source": [
        "import pandas as pd"
      ],
      "metadata": {
        "id": "TO09HeEZJ6Z0"
      },
      "execution_count": null,
      "outputs": []
    },
    {
      "cell_type": "code",
      "source": [
        "from google.colab import drive\n",
        "drive.mount('/content/drive')"
      ],
      "metadata": {
        "colab": {
          "base_uri": "https://localhost:8080/"
        },
        "id": "nLYP0OkXH1rl",
        "outputId": "86e82a3d-eaac-4894-85f8-acc0b520bad0"
      },
      "execution_count": null,
      "outputs": [
        {
          "output_type": "stream",
          "name": "stdout",
          "text": [
            "Mounted at /content/drive\n"
          ]
        }
      ]
    },
    {
      "cell_type": "code",
      "source": [
        "path = \"/content/drive/MyDrive/DATA/Fake_Jobs_Postings.csv\"\n",
        "df = pd.read_csv(path)\n",
        "print(df)"
      ],
      "metadata": {
        "colab": {
          "base_uri": "https://localhost:8080/"
        },
        "id": "ClNq0JOhH3xC",
        "outputId": "13eb41a0-b060-4a1e-84e0-9758fc42b437"
      },
      "execution_count": null,
      "outputs": [
        {
          "output_type": "stream",
          "name": "stdout",
          "text": [
            "       job_id                                              title  \\\n",
            "0           1                                   Marketing Intern   \n",
            "1           2          Customer Service - Cloud Video Production   \n",
            "2           3            Commissioning Machinery Assistant (CMA)   \n",
            "3           4                  Account Executive - Washington DC   \n",
            "4           5                                Bill Review Manager   \n",
            "...       ...                                                ...   \n",
            "17875   17876                   Account Director - Distribution    \n",
            "17876   17877                                 Payroll Accountant   \n",
            "17877   17878  Project Cost Control Staff Engineer - Cost Con...   \n",
            "17878   17879                                   Graphic Designer   \n",
            "17879   17880                         Web Application Developers   \n",
            "\n",
            "                   location   department salary_range  \\\n",
            "0          US, NY, New York    Marketing          NaN   \n",
            "1            NZ, , Auckland      Success          NaN   \n",
            "2             US, IA, Wever          NaN          NaN   \n",
            "3        US, DC, Washington        Sales          NaN   \n",
            "4        US, FL, Fort Worth          NaN          NaN   \n",
            "...                     ...          ...          ...   \n",
            "17875       CA, ON, Toronto        Sales          NaN   \n",
            "17876  US, PA, Philadelphia   Accounting          NaN   \n",
            "17877       US, TX, Houston          NaN          NaN   \n",
            "17878         NG, LA, Lagos          NaN          NaN   \n",
            "17879     NZ, N, Wellington  Engineering          NaN   \n",
            "\n",
            "                                         company_profile  \\\n",
            "0      We're Food52, and we've created a groundbreaki...   \n",
            "1      90 Seconds, the worlds Cloud Video Production ...   \n",
            "2      Valor Services provides Workforce Solutions th...   \n",
            "3      Our passion for improving quality of life thro...   \n",
            "4      SpotSource Solutions LLC is a Global Human Cap...   \n",
            "...                                                  ...   \n",
            "17875  Vend is looking for some awesome new talent to...   \n",
            "17876  WebLinc is the e-commerce platform and service...   \n",
            "17877  We Provide Full Time Permanent Positions for m...   \n",
            "17878                                                NaN   \n",
            "17879  Vend is looking for some awesome new talent to...   \n",
            "\n",
            "                                             description  \\\n",
            "0      Food52, a fast-growing, James Beard Award-winn...   \n",
            "1      Organised - Focused - Vibrant - Awesome!Do you...   \n",
            "2      Our client, located in Houston, is actively se...   \n",
            "3      THE COMPANY: ESRI – Environmental Systems Rese...   \n",
            "4      JOB TITLE: Itemization Review ManagerLOCATION:...   \n",
            "...                                                  ...   \n",
            "17875  Just in case this is the first time you’ve vis...   \n",
            "17876  The Payroll Accountant will focus primarily on...   \n",
            "17877  Experienced Project Cost Control Staff Enginee...   \n",
            "17878  Nemsia Studios is looking for an experienced v...   \n",
            "17879  Who are we?Vend is an award winning web based ...   \n",
            "\n",
            "                                            requirements  \\\n",
            "0      Experience with content management systems a m...   \n",
            "1      What we expect from you:Your key responsibilit...   \n",
            "2      Implement pre-commissioning and commissioning ...   \n",
            "3      EDUCATION: Bachelor’s or Master’s in GIS, busi...   \n",
            "4      QUALIFICATIONS:RN license in the State of Texa...   \n",
            "...                                                  ...   \n",
            "17875  To ace this role you:Will eat comprehensive St...   \n",
            "17876  - B.A. or B.S. in Accounting- Desire to have f...   \n",
            "17877  At least 12 years professional experience.Abil...   \n",
            "17878  1. Must be fluent in the latest versions of Co...   \n",
            "17879  We want to hear from you if:You have an in-dep...   \n",
            "\n",
            "                                                benefits  telecommuting  \\\n",
            "0                                                    NaN              0   \n",
            "1      What you will get from usThrough being part of...              0   \n",
            "2                                                    NaN              0   \n",
            "3      Our culture is anything but corporate—we have ...              0   \n",
            "4                                  Full Benefits Offered              0   \n",
            "...                                                  ...            ...   \n",
            "17875  What can you expect from us?We have an open cu...              0   \n",
            "17876  Health &amp; WellnessMedical planPrescription ...              0   \n",
            "17877                                                NaN              0   \n",
            "17878  Competitive salary (compensation will be based...              0   \n",
            "17879                                                NaN              0   \n",
            "\n",
            "       has_company_logo  has_questions employment_type required_experience  \\\n",
            "0                     1              0           Other          Internship   \n",
            "1                     1              0       Full-time      Not Applicable   \n",
            "2                     1              0             NaN                 NaN   \n",
            "3                     1              0       Full-time    Mid-Senior level   \n",
            "4                     1              1       Full-time    Mid-Senior level   \n",
            "...                 ...            ...             ...                 ...   \n",
            "17875                 1              1       Full-time    Mid-Senior level   \n",
            "17876                 1              1       Full-time    Mid-Senior level   \n",
            "17877                 0              0       Full-time                 NaN   \n",
            "17878                 0              1        Contract      Not Applicable   \n",
            "17879                 1              1       Full-time    Mid-Senior level   \n",
            "\n",
            "      required_education                   industry              function  \\\n",
            "0                    NaN                        NaN             Marketing   \n",
            "1                    NaN  Marketing and Advertising      Customer Service   \n",
            "2                    NaN                        NaN                   NaN   \n",
            "3      Bachelor's Degree          Computer Software                 Sales   \n",
            "4      Bachelor's Degree     Hospital & Health Care  Health Care Provider   \n",
            "...                  ...                        ...                   ...   \n",
            "17875                NaN          Computer Software                 Sales   \n",
            "17876  Bachelor's Degree                   Internet   Accounting/Auditing   \n",
            "17877                NaN                        NaN                   NaN   \n",
            "17878       Professional             Graphic Design                Design   \n",
            "17879                NaN          Computer Software           Engineering   \n",
            "\n",
            "       fraudulent  \n",
            "0               0  \n",
            "1               0  \n",
            "2               0  \n",
            "3               0  \n",
            "4               0  \n",
            "...           ...  \n",
            "17875           0  \n",
            "17876           0  \n",
            "17877           0  \n",
            "17878           0  \n",
            "17879           0  \n",
            "\n",
            "[17880 rows x 18 columns]\n"
          ]
        }
      ]
    },
    {
      "cell_type": "code",
      "source": [
        "from google.colab import files\n",
        "uploaded = files.upload()"
      ],
      "metadata": {
        "colab": {
          "base_uri": "https://localhost:8080/",
          "height": 73
        },
        "id": "UFW9-BMeXFG7",
        "outputId": "7bf04025-807e-400a-9e78-1a5ad905f13c"
      },
      "execution_count": null,
      "outputs": [
        {
          "output_type": "display_data",
          "data": {
            "text/plain": [
              "<IPython.core.display.HTML object>"
            ],
            "text/html": [
              "\n",
              "     <input type=\"file\" id=\"files-e9583fb1-8110-470c-89d3-bef4a641d783\" name=\"files[]\" multiple disabled\n",
              "        style=\"border:none\" />\n",
              "     <output id=\"result-e9583fb1-8110-470c-89d3-bef4a641d783\">\n",
              "      Upload widget is only available when the cell has been executed in the\n",
              "      current browser session. Please rerun this cell to enable.\n",
              "      </output>\n",
              "      <script>// Copyright 2017 Google LLC\n",
              "//\n",
              "// Licensed under the Apache License, Version 2.0 (the \"License\");\n",
              "// you may not use this file except in compliance with the License.\n",
              "// You may obtain a copy of the License at\n",
              "//\n",
              "//      http://www.apache.org/licenses/LICENSE-2.0\n",
              "//\n",
              "// Unless required by applicable law or agreed to in writing, software\n",
              "// distributed under the License is distributed on an \"AS IS\" BASIS,\n",
              "// WITHOUT WARRANTIES OR CONDITIONS OF ANY KIND, either express or implied.\n",
              "// See the License for the specific language governing permissions and\n",
              "// limitations under the License.\n",
              "\n",
              "/**\n",
              " * @fileoverview Helpers for google.colab Python module.\n",
              " */\n",
              "(function(scope) {\n",
              "function span(text, styleAttributes = {}) {\n",
              "  const element = document.createElement('span');\n",
              "  element.textContent = text;\n",
              "  for (const key of Object.keys(styleAttributes)) {\n",
              "    element.style[key] = styleAttributes[key];\n",
              "  }\n",
              "  return element;\n",
              "}\n",
              "\n",
              "// Max number of bytes which will be uploaded at a time.\n",
              "const MAX_PAYLOAD_SIZE = 100 * 1024;\n",
              "\n",
              "function _uploadFiles(inputId, outputId) {\n",
              "  const steps = uploadFilesStep(inputId, outputId);\n",
              "  const outputElement = document.getElementById(outputId);\n",
              "  // Cache steps on the outputElement to make it available for the next call\n",
              "  // to uploadFilesContinue from Python.\n",
              "  outputElement.steps = steps;\n",
              "\n",
              "  return _uploadFilesContinue(outputId);\n",
              "}\n",
              "\n",
              "// This is roughly an async generator (not supported in the browser yet),\n",
              "// where there are multiple asynchronous steps and the Python side is going\n",
              "// to poll for completion of each step.\n",
              "// This uses a Promise to block the python side on completion of each step,\n",
              "// then passes the result of the previous step as the input to the next step.\n",
              "function _uploadFilesContinue(outputId) {\n",
              "  const outputElement = document.getElementById(outputId);\n",
              "  const steps = outputElement.steps;\n",
              "\n",
              "  const next = steps.next(outputElement.lastPromiseValue);\n",
              "  return Promise.resolve(next.value.promise).then((value) => {\n",
              "    // Cache the last promise value to make it available to the next\n",
              "    // step of the generator.\n",
              "    outputElement.lastPromiseValue = value;\n",
              "    return next.value.response;\n",
              "  });\n",
              "}\n",
              "\n",
              "/**\n",
              " * Generator function which is called between each async step of the upload\n",
              " * process.\n",
              " * @param {string} inputId Element ID of the input file picker element.\n",
              " * @param {string} outputId Element ID of the output display.\n",
              " * @return {!Iterable<!Object>} Iterable of next steps.\n",
              " */\n",
              "function* uploadFilesStep(inputId, outputId) {\n",
              "  const inputElement = document.getElementById(inputId);\n",
              "  inputElement.disabled = false;\n",
              "\n",
              "  const outputElement = document.getElementById(outputId);\n",
              "  outputElement.innerHTML = '';\n",
              "\n",
              "  const pickedPromise = new Promise((resolve) => {\n",
              "    inputElement.addEventListener('change', (e) => {\n",
              "      resolve(e.target.files);\n",
              "    });\n",
              "  });\n",
              "\n",
              "  const cancel = document.createElement('button');\n",
              "  inputElement.parentElement.appendChild(cancel);\n",
              "  cancel.textContent = 'Cancel upload';\n",
              "  const cancelPromise = new Promise((resolve) => {\n",
              "    cancel.onclick = () => {\n",
              "      resolve(null);\n",
              "    };\n",
              "  });\n",
              "\n",
              "  // Wait for the user to pick the files.\n",
              "  const files = yield {\n",
              "    promise: Promise.race([pickedPromise, cancelPromise]),\n",
              "    response: {\n",
              "      action: 'starting',\n",
              "    }\n",
              "  };\n",
              "\n",
              "  cancel.remove();\n",
              "\n",
              "  // Disable the input element since further picks are not allowed.\n",
              "  inputElement.disabled = true;\n",
              "\n",
              "  if (!files) {\n",
              "    return {\n",
              "      response: {\n",
              "        action: 'complete',\n",
              "      }\n",
              "    };\n",
              "  }\n",
              "\n",
              "  for (const file of files) {\n",
              "    const li = document.createElement('li');\n",
              "    li.append(span(file.name, {fontWeight: 'bold'}));\n",
              "    li.append(span(\n",
              "        `(${file.type || 'n/a'}) - ${file.size} bytes, ` +\n",
              "        `last modified: ${\n",
              "            file.lastModifiedDate ? file.lastModifiedDate.toLocaleDateString() :\n",
              "                                    'n/a'} - `));\n",
              "    const percent = span('0% done');\n",
              "    li.appendChild(percent);\n",
              "\n",
              "    outputElement.appendChild(li);\n",
              "\n",
              "    const fileDataPromise = new Promise((resolve) => {\n",
              "      const reader = new FileReader();\n",
              "      reader.onload = (e) => {\n",
              "        resolve(e.target.result);\n",
              "      };\n",
              "      reader.readAsArrayBuffer(file);\n",
              "    });\n",
              "    // Wait for the data to be ready.\n",
              "    let fileData = yield {\n",
              "      promise: fileDataPromise,\n",
              "      response: {\n",
              "        action: 'continue',\n",
              "      }\n",
              "    };\n",
              "\n",
              "    // Use a chunked sending to avoid message size limits. See b/62115660.\n",
              "    let position = 0;\n",
              "    do {\n",
              "      const length = Math.min(fileData.byteLength - position, MAX_PAYLOAD_SIZE);\n",
              "      const chunk = new Uint8Array(fileData, position, length);\n",
              "      position += length;\n",
              "\n",
              "      const base64 = btoa(String.fromCharCode.apply(null, chunk));\n",
              "      yield {\n",
              "        response: {\n",
              "          action: 'append',\n",
              "          file: file.name,\n",
              "          data: base64,\n",
              "        },\n",
              "      };\n",
              "\n",
              "      let percentDone = fileData.byteLength === 0 ?\n",
              "          100 :\n",
              "          Math.round((position / fileData.byteLength) * 100);\n",
              "      percent.textContent = `${percentDone}% done`;\n",
              "\n",
              "    } while (position < fileData.byteLength);\n",
              "  }\n",
              "\n",
              "  // All done.\n",
              "  yield {\n",
              "    response: {\n",
              "      action: 'complete',\n",
              "    }\n",
              "  };\n",
              "}\n",
              "\n",
              "scope.google = scope.google || {};\n",
              "scope.google.colab = scope.google.colab || {};\n",
              "scope.google.colab._files = {\n",
              "  _uploadFiles,\n",
              "  _uploadFilesContinue,\n",
              "};\n",
              "})(self);\n",
              "</script> "
            ]
          },
          "metadata": {}
        },
        {
          "output_type": "stream",
          "name": "stdout",
          "text": [
            "Saving Fake_Jobs_Postings.csv to Fake_Jobs_Postings (1).csv\n"
          ]
        }
      ]
    },
    {
      "cell_type": "code",
      "source": [
        "import pandas as pd\n",
        "\n",
        "# Load dataset from CSV\n",
        "df = pd.read_csv('Fake_Jobs_Postings.csv')  # upload from files or provide path\n",
        "df.head()  # show first 5 rows\n",
        "\n",
        "# Save cleaned version (later)\n",
        "df.to_csv('cleaned_fake_jobs.csv', index=False)\n"
      ],
      "metadata": {
        "id": "W2Qa7a1kQ9Cz"
      },
      "execution_count": null,
      "outputs": []
    },
    {
      "cell_type": "code",
      "source": [
        "# Drop null rows\n",
        "df = df.dropna()\n",
        "\n",
        "# Combine relevant fields\n",
        "df['text'] = df['title'] + ' ' + df['description']\n",
        "\n",
        "# Keep only 'text' and 'label' (1 = fake, 0 = real)\n",
        "df = df[['text', 'fraudulent']]\n",
        "df.columns = ['text', 'label']\n"
      ],
      "metadata": {
        "id": "ycP34dD0GSCW",
        "colab": {
          "base_uri": "https://localhost:8080/"
        },
        "outputId": "85f43732-efcc-4307-cc8c-a400e5340efa"
      },
      "execution_count": null,
      "outputs": [
        {
          "output_type": "stream",
          "name": "stderr",
          "text": [
            "/tmp/ipython-input-32-1004756086.py:5: SettingWithCopyWarning: \n",
            "A value is trying to be set on a copy of a slice from a DataFrame.\n",
            "Try using .loc[row_indexer,col_indexer] = value instead\n",
            "\n",
            "See the caveats in the documentation: https://pandas.pydata.org/pandas-docs/stable/user_guide/indexing.html#returning-a-view-versus-a-copy\n",
            "  df['text'] = df['title'] + ' ' + df['description']\n"
          ]
        }
      ]
    },
    {
      "cell_type": "code",
      "source": [
        "import re\n",
        "import nltk\n",
        "nltk.download('stopwords')\n",
        "from nltk.corpus import stopwords\n",
        "\n",
        "def clean_text(text):\n",
        "    text = text.lower()\n",
        "    text = re.sub(r'[^a-zA-Z\\s]', '', text)  # remove punctuation\n",
        "    words = text.split()\n",
        "    words = [word for word in words if word not in stopwords.words('english')]\n",
        "    return ' '.join(words)\n",
        "\n",
        "df['clean_text'] = df['text'].apply(clean_text)\n"
      ],
      "metadata": {
        "id": "u-LpszPGGR-w",
        "colab": {
          "base_uri": "https://localhost:8080/"
        },
        "outputId": "7be5ba9e-e684-4467-cfb3-163459570e6f"
      },
      "execution_count": null,
      "outputs": [
        {
          "output_type": "stream",
          "name": "stderr",
          "text": [
            "[nltk_data] Downloading package stopwords to /root/nltk_data...\n",
            "[nltk_data]   Package stopwords is already up-to-date!\n"
          ]
        }
      ]
    },
    {
      "cell_type": "code",
      "source": [
        "from sklearn.feature_extraction.text import TfidfVectorizer\n",
        "\n",
        "vectorizer = TfidfVectorizer(max_features=5000)\n",
        "X = vectorizer.fit_transform(df['clean_text'])\n",
        "\n",
        "y = df['label']\n"
      ],
      "metadata": {
        "id": "6Pv5HVSUGR6l"
      },
      "execution_count": null,
      "outputs": []
    },
    {
      "cell_type": "code",
      "source": [
        "from sklearn.model_selection import train_test_split\n",
        "from sklearn.linear_model import LogisticRegression\n",
        "from sklearn.metrics import classification_report\n",
        "\n",
        "X_train, X_test, y_train, y_test = train_test_split(X, y, test_size=0.2, random_state=42)\n",
        "\n",
        "model = LogisticRegression()\n",
        "model.fit(X_train, y_train)\n",
        "\n",
        "y_pred = model.predict(X_test)\n",
        "print(classification_report(y_test, y_pred))\n"
      ],
      "metadata": {
        "id": "ZPRl6EpsGRzC",
        "colab": {
          "base_uri": "https://localhost:8080/"
        },
        "outputId": "59055306-273e-4f54-bc05-fb0967f113bf"
      },
      "execution_count": null,
      "outputs": [
        {
          "output_type": "stream",
          "name": "stdout",
          "text": [
            "              precision    recall  f1-score   support\n",
            "\n",
            "           0       0.92      1.00      0.96       142\n",
            "           1       0.00      0.00      0.00        13\n",
            "\n",
            "    accuracy                           0.92       155\n",
            "   macro avg       0.46      0.50      0.48       155\n",
            "weighted avg       0.84      0.92      0.88       155\n",
            "\n"
          ]
        },
        {
          "output_type": "stream",
          "name": "stderr",
          "text": [
            "/usr/local/lib/python3.11/dist-packages/sklearn/metrics/_classification.py:1565: UndefinedMetricWarning: Precision is ill-defined and being set to 0.0 in labels with no predicted samples. Use `zero_division` parameter to control this behavior.\n",
            "  _warn_prf(average, modifier, f\"{metric.capitalize()} is\", len(result))\n",
            "/usr/local/lib/python3.11/dist-packages/sklearn/metrics/_classification.py:1565: UndefinedMetricWarning: Precision is ill-defined and being set to 0.0 in labels with no predicted samples. Use `zero_division` parameter to control this behavior.\n",
            "  _warn_prf(average, modifier, f\"{metric.capitalize()} is\", len(result))\n",
            "/usr/local/lib/python3.11/dist-packages/sklearn/metrics/_classification.py:1565: UndefinedMetricWarning: Precision is ill-defined and being set to 0.0 in labels with no predicted samples. Use `zero_division` parameter to control this behavior.\n",
            "  _warn_prf(average, modifier, f\"{metric.capitalize()} is\", len(result))\n"
          ]
        }
      ]
    },
    {
      "cell_type": "code",
      "source": [
        "import joblib\n",
        "\n",
        "# Save model and vectorizer\n",
        "joblib.dump(model, 'logistic_model.pkl')\n",
        "joblib.dump(vectorizer, 'vectorizer.pkl')\n"
      ],
      "metadata": {
        "colab": {
          "base_uri": "https://localhost:8080/"
        },
        "id": "3Kbarg3PtdHd",
        "outputId": "dcbd94c7-5c9b-4dfc-ab31-362ce6bb98c0"
      },
      "execution_count": null,
      "outputs": [
        {
          "output_type": "execute_result",
          "data": {
            "text/plain": [
              "['vectorizer.pkl']"
            ]
          },
          "metadata": {},
          "execution_count": 36
        }
      ]
    },
    {
      "cell_type": "code",
      "source": [
        "model = joblib.load('logistic_model.pkl')\n",
        "vectorizer = joblib.load('vectorizer.pkl')\n"
      ],
      "metadata": {
        "id": "lIYj5_attp_1"
      },
      "execution_count": null,
      "outputs": []
    },
    {
      "cell_type": "code",
      "source": [
        "import joblib\n",
        "\n",
        "# Load saved model and vectorizer\n",
        "model = joblib.load('logistic_model.pkl')\n",
        "vectorizer = joblib.load('vectorizer.pkl')\n"
      ],
      "metadata": {
        "id": "nzBiZpdSGRqd"
      },
      "execution_count": null,
      "outputs": []
    },
    {
      "cell_type": "code",
      "source": [
        "def predict_job_message(message):\n",
        "    # Clean the input text (same as training)\n",
        "    cleaned = clean_text(message)\n",
        "\n",
        "    # Vectorize the input\n",
        "    vec = vectorizer.transform([cleaned])\n",
        "\n",
        "    # Make prediction\n",
        "    prediction = model.predict(vec)[0]\n",
        "\n",
        "    # Return result\n",
        "    return \"Scam\" if prediction == 1 else \"legit\"\n"
      ],
      "metadata": {
        "id": "qTknCvj2s4_U"
      },
      "execution_count": null,
      "outputs": []
    },
    {
      "cell_type": "code",
      "source": [
        "# Example scam job message\n",
        "msg1 = \"IC&amp;E Technician | Bakersfield, CA Mt. PosoPrincipal Duties and Responsibilities:Â Calibrates, tests, maintains, troubleshoots, and installs all power plant instrumentation, control systems and electrical equipment.Performs maintenance on motor control centers, motor operated valves, generators, excitation equipment and motors.Performs preventive, predictive and corrective maintenance on equipment, coordinating work with various team members.Designs and installs new equipment and/or system modifications.Troubleshoots and performs maintenance on DC backup power equipment, process controls, programmable logic controls (PLC), and emission monitoring equipment.Uses maintenance reporting system to record time and material use, problem identified and corrected, and further action required; provides complete history of maintenance on equipment.Schedule, coordinate, work with and monitor contractors on specific tasks, as required.Follows safe working practices at all times.Identifies safety hazards and recommends solutions.Follows environmental compliance work practices.Identifies environmental non-compliance problems and assist in implementing solutions.Assists other team members and works with all departments to support generating station in achieving their performance goals.Trains other team members in the areas of instrumentation, control, and electrical systems.Performs housekeeping assignments, as directed.Conduct equipment and system tagging according to company and plant rules and regulations.Perform equipment safety inspections, as required, and record results as appropriate.Â Participate in small construction projects.Â  Read and interpret drawings, sketches, prints, and specifications, as required.Orders parts as needed to affect maintenance and repair.Performs Operations tasks on an as-needed basis and other tasks as assigned.Available within a reasonable response time for emergency call-ins and overtime, plus provide acceptable off-hour contact by phone and company pager.Â Â Â Â Â Â Â Â Â  Excellent Verbal and Written Communications Skills:Ability to coordinate work activities with other team members on technical subjects across job families.Ability to work weekends, holidays, and rotating shifts, as required.\"\n",
        "# Example legit job message\n",
        "msg2 = \"We Are Looking for college interns with the passion to be in the entertainment industry. Industry Mogul Alander Pulliam has put together a youth and motivated program for college students throughout the Los Angeles market. To help college students enrich there knowledge and there experience.\"\n",
        "msg3 = \"Health Catalyst is recruiting for Data Entry/Administrative Assistant positions with exciting corporate and non-profit clients. some professional internship experience and a willingness to learn from the ground up. These positions require strong MS Office skills, a professional demeanor and an ability to interact with all levels of management and staff. We have opportunities in a variety of environments including legal, corporate, association and both domestic and international non-profit offices. QualificationsA minimum three years of experience in data entry primarily entering numerical research data in a variety of specialized formats. Knowledge of word processing, basic spreadsheet and database maintenance and a working knowledge of MS PowerPoint. Basics of database entry of project management setups would be preferred.Job Requirements*Must be able to work 40 hours/week during normal business hours Mon. to Fri.*1 years in an order entry/data entry/admin assistant /receptionist department*Proficiency in Microsoft Office*MUST TYPE 45 WPM*Excellent written and oral communication skills*Superb tenure in previous positionsThese positions are temp-to-hire and are available immediately. For consideration, please send your resume and cover letter, along with salary requirements to:#EMAIL_4c7d0e2d8114d28ab3dc969e6512ff38f396bd278816d53b41b8e9575f217588#\"\n",
        "#predict\n",
        "print(\"Message 1:\", predict_job_message(msg1))\n",
        "print(\"Message 2:\", predict_job_message(msg2))\n",
        "print(\"Message 3:\", predict_job_message(msg3))\n"
      ],
      "metadata": {
        "colab": {
          "base_uri": "https://localhost:8080/"
        },
        "id": "rMwn7VdvvFi_",
        "outputId": "6d8e8178-2f95-4db2-fcc5-f61f93b62171"
      },
      "execution_count": null,
      "outputs": [
        {
          "output_type": "stream",
          "name": "stdout",
          "text": [
            "Message 1: Scam\n",
            "Message 2: legit\n",
            "Message 3: legit\n"
          ]
        }
      ]
    }
  ]
}